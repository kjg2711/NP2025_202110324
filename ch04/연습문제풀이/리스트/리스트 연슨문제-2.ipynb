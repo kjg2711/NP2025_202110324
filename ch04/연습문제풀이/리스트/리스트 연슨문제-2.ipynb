{
 "cells": [
  {
   "cell_type": "code",
   "execution_count": null,
   "id": "9275fb91",
   "metadata": {},
   "outputs": [],
   "source": [
    "#3명 이상 친구 이름 리스트를 작성하고 다음 내용을 프로그램하시오\n",
    "friends = [\"김민성\", \"감종규\", \"염승태\"]\n",
    "\n",
    "friends.insert(0, \"강찬희\")\n",
    "print(\"친구 추가\", friends)\n",
    "\n",
    "friends.insert(2, \"김민수\")\n",
    "print(\"3번째 친구 추가\", friends)\n",
    "\n",
    "friends.append(\"김민자\")\n",
    "print(\"마지막 친구 추가\", friends)"
   ]
  },
  {
   "cell_type": "code",
   "execution_count": null,
   "id": "ceb64ad6",
   "metadata": {},
   "outputs": [],
   "source": [
    "#리스트 [1,2,3]에 대해 다음과 같은 처리를 하라\n",
    "list = [1,2,3]\n",
    "\n",
    "list[1] = 17\n",
    "print(\"두 번째 요소 수정\", list)\n",
    "\n",
    "list.extend([4,5,6])\n",
    "print(\"리스트 추가\", list)\n",
    "\n",
    "del list[0]\n",
    "print(\"첫 번째 요소 삭제\", list)\n",
    "\n",
    "list.sort()\n",
    "print(\"리스트 정렬\", list)\n",
    "\n",
    "list.insert(3, 25)\n",
    "print(\"인덱스 3에 25 넣기\", list)\n"
   ]
  }
 ],
 "metadata": {
  "kernelspec": {
   "display_name": "Python 3",
   "language": "python",
   "name": "python3"
  },
  "language_info": {
   "codemirror_mode": {
    "name": "ipython",
    "version": 3
   },
   "file_extension": ".py",
   "mimetype": "text/x-python",
   "name": "python",
   "nbconvert_exporter": "python",
   "pygments_lexer": "ipython3",
   "version": "3.13.7"
  }
 },
 "nbformat": 4,
 "nbformat_minor": 5
}
