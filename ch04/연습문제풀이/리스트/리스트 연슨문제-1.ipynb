{
 "cells": [
  {
   "cell_type": "markdown",
   "id": "b16629f8",
   "metadata": {},
   "source": [
    "- 1. for 루프를 이용하여다음과같은리스트를생성하라.\n",
    "    - 0~49까지의 수로 구성되는리스트\n",
    "    - 1~50까지 수의 제곱으로구성되는리스트\n",
    "\n",
    "- 2. 크기가같은두개의리스트L, M을생성하고두리스트의각요소합으로구성되는 새로운리스트를생성하라. \n",
    "예를들어L=[1,2,3]이고 M=[4,5,6]이면 [5,7,9]인 리스트 생성 "
   ]
  },
  {
   "cell_type": "code",
   "execution_count": null,
   "id": "b8668366",
   "metadata": {},
   "outputs": [
    {
     "name": "stdout",
     "output_type": "stream",
     "text": [
      "50\n"
     ]
    }
   ],
   "source": [
    "list = []\n",
    "\n",
    "for a in range(50):\n",
    "    list.append(a)\n",
    "\n",
    "print(a)"
   ]
  },
  {
   "cell_type": "code",
   "execution_count": null,
   "id": "fe0d21a4",
   "metadata": {},
   "outputs": [
    {
     "name": "stdout",
     "output_type": "stream",
     "text": [
      "49\n"
     ]
    }
   ],
   "source": [
    "list = []\n",
    "\n",
    "for a in range(1,50):\n",
    "    list.append(a**2)\n",
    "\n",
    "print(a)"
   ]
  },
  {
   "cell_type": "code",
   "execution_count": null,
   "id": "c12e06d3",
   "metadata": {},
   "outputs": [
    {
     "name": "stdout",
     "output_type": "stream",
     "text": [
      "[6, 8, 10, 12]\n"
     ]
    }
   ],
   "source": [
    "L = [1,2,3,4]\n",
    "M = [5,6,7,8]\n",
    "\n",
    "r = []\n",
    "for i in range(len(a)):\n",
    "    r.append(L[i] + M[i])\n",
    "\n",
    "\n",
    "print(r)"
   ]
  }
 ],
 "metadata": {
  "kernelspec": {
   "display_name": "Python 3",
   "language": "python",
   "name": "python3"
  },
  "language_info": {
   "codemirror_mode": {
    "name": "ipython",
    "version": 3
   },
   "file_extension": ".py",
   "mimetype": "text/x-python",
   "name": "python",
   "nbconvert_exporter": "python",
   "pygments_lexer": "ipython3",
   "version": "3.13.5"
  }
 },
 "nbformat": 4,
 "nbformat_minor": 5
}
