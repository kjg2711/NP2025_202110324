{
 "cells": [
  {
   "cell_type": "markdown",
   "id": "45de4ea3",
   "metadata": {},
   "source": [
    "### 다음 딕셔너리에 대해 물음에 답하라.\n",
    "\n",
    "\n",
    "days = {'January':31, 'February':28, 'March':31, 'April':30,'May':31, 'June':30, 'July':31, 'August':31 'September':30, 'October':31, 'November':30, 'December':31}\n",
    "\n",
    "- 사용자가 월을 입력하면 해당 월에 일수를 출력하라\n",
    "- 알파벳 순서로 모든 월을 출력하라\n",
    "- 일수가 31인 월을 모두 출력하라\n",
    "- 월의 일수를 기준으로 오름차순으로 (key-value) 쌍을 출력하라\n",
    "- 사용자가 월을 3자리만 입력하면 월의 일수를 출력하라.(Jan, Feb 등)"
   ]
  },
  {
   "cell_type": "code",
   "execution_count": 1,
   "id": "980077a7",
   "metadata": {},
   "outputs": [
    {
     "name": "stdout",
     "output_type": "stream",
     "text": [
      "존재하지 않는 월입니다.\n",
      "알파벳 순서: ['April', 'August', 'December', 'February', 'January', 'July', 'June', 'March', 'May', 'November', 'October', 'September']\n",
      "31일까지 있는 월: ['January', 'March', 'May', 'July', 'August', 'October', 'December']\n",
      "일수 기준 오름차순:\n",
      "February : 28\n",
      "April : 30\n",
      "June : 30\n",
      "September : 30\n",
      "November : 30\n",
      "January : 31\n",
      "March : 31\n",
      "May : 31\n",
      "July : 31\n",
      "August : 31\n",
      "October : 31\n",
      "December : 31\n",
      "January는 31일까지 있습니다.\n"
     ]
    }
   ],
   "source": [
    "# 1. 사용자가 월을 입력하면 해당 월의 일수를 출력\n",
    "\n",
    "days = {\n",
    "    'January': 31, 'February': 28, 'March': 31, 'April': 30,\n",
    "    'May': 31, 'June': 30, 'July': 31, 'August': 31,\n",
    "    'September': 30, 'October': 31, 'November': 30, 'December': 31\n",
    "}\n",
    "\n",
    "month = input(\"월 입력: \")\n",
    "if month in days:\n",
    "    print(f\"{month}는 {days[month]}일까지 있습니다.\")\n",
    "else:\n",
    "    print(\"존재하지 않는 월입니다.\")\n",
    "\n",
    "\n",
    "# 2. 알파벳 순서로 모든 월 출력\n",
    "print(\"알파벳 순서:\", sorted(days.keys()))\n",
    "\n",
    "# 3. 일수가 31인 월 출력\n",
    "print(\"31일까지 있는 월:\", [m for m, d in days.items() if d == 31])\n",
    "\n",
    "# 4. 월의 일수를 기준으로 오름차순 출력\n",
    "print(\"일수 기준 오름차순:\")\n",
    "for m, d in sorted(days.items(), key=lambda x: x[1]):\n",
    "    print(m, \":\", d)\n",
    "\n",
    "# 5. 사용자가 월을 3자리만 입력하면 일수 출력\n",
    "short = input(\"월(3자리) 입력: \")\n",
    "found = False\n",
    "for m in days:\n",
    "    if m.startswith(short):\n",
    "        print(f\"{m}는 {days[m]}일까지 있습니다.\")\n",
    "        found = True\n",
    "        break\n",
    "if not found:\n",
    "    print(\"존재하지 않는 월입니다.\")"
   ]
  },
  {
   "cell_type": "code",
   "execution_count": null,
   "id": "66916d23",
   "metadata": {},
   "outputs": [],
   "source": []
  }
 ],
 "metadata": {
  "kernelspec": {
   "display_name": ".venv",
   "language": "python",
   "name": "python3"
  },
  "language_info": {
   "codemirror_mode": {
    "name": "ipython",
    "version": 3
   },
   "file_extension": ".py",
   "mimetype": "text/x-python",
   "name": "python",
   "nbconvert_exporter": "python",
   "pygments_lexer": "ipython3",
   "version": "3.13.7"
  }
 },
 "nbformat": 4,
 "nbformat_minor": 5
}
