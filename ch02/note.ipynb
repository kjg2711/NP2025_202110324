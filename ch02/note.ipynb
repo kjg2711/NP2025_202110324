{
 "cells": [
  {
   "cell_type": "markdown",
   "id": "2cc334ab",
   "metadata": {},
   "source": [
    "2장 노트정리 \n",
    "\n",
    "- 날짜 : 20250909\n",
    "- 학번 : 202110324\n",
    "- 이름 : 김종규"
   ]
  },
  {
   "cell_type": "code",
   "execution_count": 2,
   "id": "d558b3a9",
   "metadata": {},
   "outputs": [
    {
     "name": "stdout",
     "output_type": "stream",
     "text": [
      "Hello\n"
     ]
    }
   ],
   "source": [
    "print(\"Hello\")"
   ]
  }
 ],
 "metadata": {
  "kernelspec": {
   "display_name": ".venv",
   "language": "python",
   "name": "python3"
  },
  "language_info": {
   "codemirror_mode": {
    "name": "ipython",
    "version": 3
   },
   "file_extension": ".py",
   "mimetype": "text/x-python",
   "name": "python",
   "nbconvert_exporter": "python",
   "pygments_lexer": "ipython3",
   "version": "3.13.7"
  }
 },
 "nbformat": 4,
 "nbformat_minor": 5
}
