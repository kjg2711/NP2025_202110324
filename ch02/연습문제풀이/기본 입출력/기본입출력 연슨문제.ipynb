{
 "cells": [
  {
   "cell_type": "markdown",
   "id": "947d1f22",
   "metadata": {},
   "source": [
    "- 학번: 202110324\n",
    "- 이름: 김종규\n",
    "- 내용: 기본 입출력 연습문제"
   ]
  },
  {
   "cell_type": "markdown",
   "id": "2f0cb26b",
   "metadata": {},
   "source": [
    "1) 키보드에서 임의의 두 실수를 입력 받아 곱한 후 그 결과를 출력하는 프로그램을 작성하고 실행하라"
   ]
  },
  {
   "cell_type": "code",
   "execution_count": null,
   "id": "98639449",
   "metadata": {},
   "outputs": [
    {
     "name": "stdout",
     "output_type": "stream",
     "text": [
      "두 실수의 곱은: 2.0\n"
     ]
    }
   ],
   "source": [
    "# 1. 키보드에서 임의의 두 실수를 입력 받아 곱한 후 그 결과를 출력하는 프로그램을 작성하고 실행하라\n",
    "a = float(input(\"첫 번째 실수를 입력하세요: \"))\n",
    "b = float(input(\"두 번째 실수를 입력하세요: \"))\n",
    "result = a * b\n",
    "print(\"두 실수의 곱은:\", result)"
   ]
  },
  {
   "cell_type": "markdown",
   "id": "bc370eb0",
   "metadata": {},
   "source": [
    "2) 1마일은 1.609km이다. 키보드에서 마일(정수)을 입력 받아 km로 변환해 출력하는 프로그램을작성하고 실행하라"
   ]
  },
  {
   "cell_type": "code",
   "execution_count": null,
   "id": "6b6c946d",
   "metadata": {},
   "outputs": [
    {
     "name": "stdout",
     "output_type": "stream",
     "text": [
      "kph: 160.9\n"
     ]
    }
   ],
   "source": [
    "# 2. 1마일은 1.609km이다. 키보드에서 마일(정수)을 입력 받아 km로 변환해 출력하는 프로그램을작성하고 실행하라\n",
    "mph = int(input(\"마일(정수): \"))\n",
    "kph = mph * 1.609\n",
    "print(\"kph:\", kph)"
   ]
  },
  {
   "cell_type": "markdown",
   "id": "b9e09f79",
   "metadata": {},
   "source": [
    "3) 원의 반지름을 입력 받아 원의 둘레와 원의 면적을 출력하는 프로그램을 작성하라"
   ]
  },
  {
   "cell_type": "code",
   "execution_count": 4,
   "id": "718b2d6b",
   "metadata": {},
   "outputs": [
    {
     "name": "stdout",
     "output_type": "stream",
     "text": [
      "원의 둘레 314.0\n",
      "원의 면적 7850.0\n"
     ]
    }
   ],
   "source": [
    "# 3. 원의 반지름을 입력 받아 원의 둘레와 원의 면적을 출력하는 프로그램을 작성하라\n",
    "r = int(input(\"원의 반지름: \"))\n",
    "c = 2 * 3.14 * r\n",
    "a = 3.14 * r * r    \n",
    "print(\"원의 둘레\", c)\n",
    "print(\"원의 면적\", a)"
   ]
  }
 ],
 "metadata": {
  "kernelspec": {
   "display_name": ".venv",
   "language": "python",
   "name": "python3"
  },
  "language_info": {
   "codemirror_mode": {
    "name": "ipython",
    "version": 3
   },
   "file_extension": ".py",
   "mimetype": "text/x-python",
   "name": "python",
   "nbconvert_exporter": "python",
   "pygments_lexer": "ipython3",
   "version": "3.13.7"
  }
 },
 "nbformat": 4,
 "nbformat_minor": 5
}
