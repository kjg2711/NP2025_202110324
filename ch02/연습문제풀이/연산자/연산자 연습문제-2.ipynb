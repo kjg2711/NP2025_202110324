{
 "cells": [
  {
   "cell_type": "markdown",
   "id": "153d46be",
   "metadata": {},
   "source": [
    "- 학번: 202110324\n",
    "- 이름: 김종규\n",
    "- 내용: 연산자 연습문제 2"
   ]
  },
  {
   "cell_type": "markdown",
   "id": "c17f53b8",
   "metadata": {},
   "source": [
    "1. 초를 입력하면 분과 초로 표시하는 프로그램. 예를 들어, 200초를 입력하면 3분 20초로 표현하라"
   ]
  },
  {
   "cell_type": "code",
   "execution_count": 1,
   "id": "4175cd42",
   "metadata": {},
   "outputs": [
    {
     "name": "stdout",
     "output_type": "stream",
     "text": [
      "3분 20초\n"
     ]
    }
   ],
   "source": [
    "#초를 입력하면 분과 초로 표시하는 프로그램. 예를 들어, 200초를 입력하면 3분 20초로 표현하라\n",
    "sec = int(input(\"초를 입력하세요: \"))\n",
    "min = sec // 60\n",
    "sec = sec % 60\n",
    "print(f\"{min}분 {sec}초\")"
   ]
  },
  {
   "cell_type": "markdown",
   "id": "30f48959",
   "metadata": {},
   "source": [
    "2. 분(min)을 입력 하면, 일, 시간, 분으로 출력하는 프로그램을 만들어라. (예 : 1550분은 1일 1시간 50분)"
   ]
  },
  {
   "cell_type": "code",
   "execution_count": 2,
   "id": "5d4e8e7c",
   "metadata": {},
   "outputs": [
    {
     "name": "stdout",
     "output_type": "stream",
     "text": [
      "1일 1시간 56분\n"
     ]
    }
   ],
   "source": [
    "#분(min)을 입력 하면, 일, 시간, 분으로 출력하는 프로그램을 만들어라. (예 : 1550분은 1일 1시간 50분)\n",
    "min = int(input(\"분을 입력하세요: \"))\n",
    "day = min // 1440\n",
    "hour = (min % 1440) // 60\n",
    "min = min % 60\n",
    "print(f\"{day}일 {hour}시간 {min}분\")\n"
   ]
  },
  {
   "cell_type": "markdown",
   "id": "765e3e41",
   "metadata": {},
   "source": [
    "3. 500만원을 년이율 5%로 복리 저금했을 때 5년 후의 원리금의 합계를 출력하는 프로그램"
   ]
  },
  {
   "cell_type": "code",
   "execution_count": 3,
   "id": "708002a0",
   "metadata": {},
   "outputs": [
    {
     "name": "stdout",
     "output_type": "stream",
     "text": [
      "5년 후의 원리금의 합계: 6,381,408원\n"
     ]
    }
   ],
   "source": [
    "#3. 500만원을 년이율 5%로 복리 저금했을 때 5년 후의 원리금의 합계를 출력하는 프로그램\n",
    "pay = 5000000\n",
    "rate = 0.05\n",
    "year = 5\n",
    "total = pay * (1 + rate) ** year\n",
    "print(f\"5년 후의 원리금의 합계: {total:,.0f}원\")"
   ]
  },
  {
   "cell_type": "markdown",
   "id": "523608a0",
   "metadata": {},
   "source": [
    "4. 1부터 n까지의 합은 n(n+1)/2로 주어진다. 1부터 100까지의 합을 구하여 출력하는 프로그램을 작성하고 실행하라."
   ]
  },
  {
   "cell_type": "code",
   "execution_count": 4,
   "id": "0a657add",
   "metadata": {},
   "outputs": [
    {
     "name": "stdout",
     "output_type": "stream",
     "text": [
      "1부터 100까지의 합: 5050\n"
     ]
    }
   ],
   "source": [
    "#1부터 n까지의 합은 n(n+1)/2로 주어진다. 1부터 100까지의 합을 구하여 출력하는 프로그램을 작성하고 실행하라.\n",
    "n = 100\n",
    "total = n * (n + 1) // 2\n",
    "print(f\"1부터 {n}까지의 합: {total}\")"
   ]
  },
  {
   "cell_type": "markdown",
   "id": "7d8a6d7c",
   "metadata": {},
   "source": [
    "5. 판매자가 딸기와 포도를 판매하고 있다. 포도 한 알의 무게는 75g이고 딸기 한 알의 무게는 113.5g이다. 사용자로부터 포도 알의 개수와 딸기의 개수를 입력받아 총 무게를 계산하여 출력하는 프로그램을 작성하고 실행하라.\n"
   ]
  },
  {
   "cell_type": "code",
   "execution_count": 8,
   "id": "50183d4d",
   "metadata": {},
   "outputs": [
    {
     "name": "stdout",
     "output_type": "stream",
     "text": [
      "총 무게: 9425.0g\n"
     ]
    }
   ],
   "source": [
    "#판매자가 딸기와 포도를 판매하고 있다. 포도 한 알의 무게는 75g이고 딸기 한 알의 무게는 113.5g이다. 사용자로부터 포도 알의 개수와 딸기의 개수를 입력받아 총 무게를 계산하여 출력하는 프로그램을 작성하고 실행하라.\n",
    "\n",
    "count = int(input(\"포도 알의 개수를 입력하세요: \"))\n",
    "grape_weight = 75\n",
    "total_grape = count * grape_weight\n",
    "count1 = int(input(\"딸기 알의 개수를 입력하세요: \"))\n",
    "berry_weight = 113.5\n",
    "total_berry = count1 * berry_weight\n",
    "total = total_grape + total_berry\n",
    "print(f\"총 무게: {total}g\")\n"
   ]
  }
 ],
 "metadata": {
  "kernelspec": {
   "display_name": ".venv",
   "language": "python",
   "name": "python3"
  },
  "language_info": {
   "codemirror_mode": {
    "name": "ipython",
    "version": 3
   },
   "file_extension": ".py",
   "mimetype": "text/x-python",
   "name": "python",
   "nbconvert_exporter": "python",
   "pygments_lexer": "ipython3",
   "version": "3.13.7"
  }
 },
 "nbformat": 4,
 "nbformat_minor": 5
}
