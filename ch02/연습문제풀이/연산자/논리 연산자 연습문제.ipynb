{
 "cells": [
  {
   "cell_type": "markdown",
   "id": "d58655a6",
   "metadata": {},
   "source": [
    "- 학번: 202110324\n",
    "- 이름: 김종규\n",
    "- 내용: 논리연산자 연습문제\n"
   ]
  },
  {
   "cell_type": "code",
   "execution_count": 2,
   "id": "1e9f03e2",
   "metadata": {},
   "outputs": [
    {
     "data": {
      "text/plain": [
       "True"
      ]
     },
     "execution_count": 2,
     "metadata": {},
     "output_type": "execute_result"
    }
   ],
   "source": [
    "# 1) 5가 3보다 크고 7보다 작은지 검사하는 프로그램을 작성하라.\n",
    "5 > 3 and 5 < 7\n"
   ]
  },
  {
   "cell_type": "code",
   "execution_count": 4,
   "id": "a5de5a88",
   "metadata": {},
   "outputs": [
    {
     "data": {
      "text/plain": [
       "False"
      ]
     },
     "execution_count": 4,
     "metadata": {},
     "output_type": "execute_result"
    }
   ],
   "source": [
    "# 2) 변수 x가 10 이상이고 20 이하인지 검사하는 프로그램을 작성하라.\n",
    "x = int(input(\"x: \"))\n",
    "10 <= x <= 20"
   ]
  },
  {
   "cell_type": "code",
   "execution_count": 10,
   "id": "66bce552",
   "metadata": {},
   "outputs": [
    {
     "data": {
      "text/plain": [
       "False"
      ]
     },
     "execution_count": 10,
     "metadata": {},
     "output_type": "execute_result"
    }
   ],
   "source": [
    "# 3)변수 y가 5의 배수이거나 7의 배수인지 검사하는 프로그램을 작성하라.\n",
    "y = int(input(\"y: \"))\n",
    "y % 5 == 0 or y % 7 == 0"
   ]
  },
  {
   "cell_type": "code",
   "execution_count": 11,
   "id": "e40053f5",
   "metadata": {},
   "outputs": [
    {
     "data": {
      "text/plain": [
       "True"
      ]
     },
     "execution_count": 11,
     "metadata": {},
     "output_type": "execute_result"
    }
   ],
   "source": [
    "# 4) 변수 z가 양수이면서 짝수인지 검사하는 프로그램을 작성하라.\n",
    "z = int(input(\"z: \"))\n",
    "z > 0 and z % 2 == 0"
   ]
  },
  {
   "cell_type": "code",
   "execution_count": 16,
   "id": "087960d3",
   "metadata": {},
   "outputs": [
    {
     "data": {
      "text/plain": [
       "True"
      ]
     },
     "execution_count": 16,
     "metadata": {},
     "output_type": "execute_result"
    }
   ],
   "source": [
    "# 5) 변수 a가 문자열 \"hello\"나 문자열 \"world\" 중 하나인지 검사하는 프로그램을 작성하라\n",
    "a = input(\"a: \")\n",
    "a in (\"hello\", \"world\")"
   ]
  }
 ],
 "metadata": {
  "kernelspec": {
   "display_name": ".venv",
   "language": "python",
   "name": "python3"
  },
  "language_info": {
   "codemirror_mode": {
    "name": "ipython",
    "version": 3
   },
   "file_extension": ".py",
   "mimetype": "text/x-python",
   "name": "python",
   "nbconvert_exporter": "python",
   "pygments_lexer": "ipython3",
   "version": "3.13.7"
  }
 },
 "nbformat": 4,
 "nbformat_minor": 5
}
