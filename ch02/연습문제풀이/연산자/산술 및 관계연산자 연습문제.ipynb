{
 "cells": [
  {
   "cell_type": "markdown",
   "id": "70d04dc8",
   "metadata": {},
   "source": [
    "- 학번: 202110324\n",
    "- 이름: 김종규\n",
    "- 내용: 산술 및 관계 연산자 연습문제"
   ]
  },
  {
   "cell_type": "markdown",
   "id": "8033f183",
   "metadata": {},
   "source": [
    "1) 5와 3을 더한 값을 출력하는 프로그램을 작성하라."
   ]
  },
  {
   "cell_type": "code",
   "execution_count": 1,
   "id": "ca7e48b0",
   "metadata": {},
   "outputs": [
    {
     "name": "stdout",
     "output_type": "stream",
     "text": [
      "8\n"
     ]
    }
   ],
   "source": [
    "x = 5 + 3\n",
    "print(x)"
   ]
  },
  {
   "cell_type": "markdown",
   "id": "d0bb7b54",
   "metadata": {},
   "source": [
    "2) 7에서 3을 뺀 값을 출력하는 프로그램을 작성하라."
   ]
  },
  {
   "cell_type": "code",
   "execution_count": 2,
   "id": "0bf95c9b",
   "metadata": {},
   "outputs": [
    {
     "name": "stdout",
     "output_type": "stream",
     "text": [
      "4\n"
     ]
    }
   ],
   "source": [
    "x = 7 - 3\n",
    "print(x)"
   ]
  },
  {
   "cell_type": "markdown",
   "id": "249c6330",
   "metadata": {},
   "source": [
    "3) 4를 2로 나눈 값을 출력하는 프로그램을 작성하라.\n"
   ]
  },
  {
   "cell_type": "code",
   "execution_count": 4,
   "id": "eb00b340",
   "metadata": {},
   "outputs": [
    {
     "name": "stdout",
     "output_type": "stream",
     "text": [
      "2.0\n",
      "2\n"
     ]
    }
   ],
   "source": [
    "x = 4 / 2\n",
    "print(x)\n",
    "x1 = 4 // 2\n",
    "print(x1)"
   ]
  },
  {
   "cell_type": "code",
   "execution_count": null,
   "id": "38d5bb39",
   "metadata": {},
   "outputs": [
    {
     "name": "stdout",
     "output_type": "stream",
     "text": [
      "2\n",
      "2\n"
     ]
    }
   ],
   "source": [
    "# 4. 8을 3으로 나눈 몫과 나머지를 출력하는 프로그램을 작성하라\n",
    "x = 8 // 3\n",
    "print(x)\n",
    "x1 = 8 % 3\n",
    "print(x1)"
   ]
  },
  {
   "cell_type": "code",
   "execution_count": null,
   "id": "e19b60a6",
   "metadata": {},
   "outputs": [
    {
     "name": "stdout",
     "output_type": "stream",
     "text": [
      "32\n"
     ]
    }
   ],
   "source": [
    "# 5. 2의 5제곱을 출력하는 프로그램을 작성하라.\n",
    "x = 2 ** 5\n",
    "print(x)"
   ]
  },
  {
   "cell_type": "code",
   "execution_count": null,
   "id": "163a12d0",
   "metadata": {},
   "outputs": [
    {
     "data": {
      "text/plain": [
       "True"
      ]
     },
     "execution_count": 9,
     "metadata": {},
     "output_type": "execute_result"
    }
   ],
   "source": [
    "# 6. 입력된 정수가 10보다 크고 20보다 작은지 검사하는 프로그램을 작성하라\n",
    "a = int(input(\"정수: \"))\n",
    "10 < a < 20\n"
   ]
  },
  {
   "cell_type": "code",
   "execution_count": null,
   "id": "8e068063",
   "metadata": {},
   "outputs": [
    {
     "name": "stdout",
     "output_type": "stream",
     "text": [
      "helloworld\n"
     ]
    }
   ],
   "source": [
    "# 7. 문자열 \"hello\"와 문자열 \"world\"를 이어 붙인 결과를 출력하는 프로그램을 작성하라\n",
    "a = input(\"문자열: \")\n",
    "b = input(\"문자열: \")\n",
    "c = a + b\n",
    "print(c)"
   ]
  },
  {
   "cell_type": "code",
   "execution_count": null,
   "id": "f78100b9",
   "metadata": {},
   "outputs": [
    {
     "name": "stdout",
     "output_type": "stream",
     "text": [
      "3.5\n"
     ]
    },
    {
     "data": {
      "text/plain": [
       "False"
      ]
     },
     "execution_count": 12,
     "metadata": {},
     "output_type": "execute_result"
    }
   ],
   "source": [
    "# 8. 7을 2로 나눈 결과가 3보다 작은지 검사하는 프로그램을 작성하라.\n",
    "x = 7 / 2\n",
    "print(x)\n",
    "x < 3"
   ]
  },
  {
   "cell_type": "code",
   "execution_count": null,
   "id": "39a1f85d",
   "metadata": {},
   "outputs": [
    {
     "data": {
      "text/plain": [
       "True"
      ]
     },
     "execution_count": 14,
     "metadata": {},
     "output_type": "execute_result"
    }
   ],
   "source": [
    "# 9. 변수 x의 값이 5와 같지 않은지 검사하는 프로그램을 작성하라.\n",
    "x = 5\n",
    "x == 5"
   ]
  },
  {
   "cell_type": "code",
   "execution_count": null,
   "id": "d8c2d764",
   "metadata": {},
   "outputs": [
    {
     "name": "stdout",
     "output_type": "stream",
     "text": [
      "20\n"
     ]
    },
    {
     "data": {
      "text/plain": [
       "False"
      ]
     },
     "execution_count": 15,
     "metadata": {},
     "output_type": "execute_result"
    }
   ],
   "source": [
    "# 10. 변수수 y의 값이 10에서 20 사이의 값인지 검사하는 프로그램을 작성하라\n",
    "x = int(input(\"x의 값: \"))\n",
    "print(x)\n",
    "10 < x < 20\n"
   ]
  }
 ],
 "metadata": {
  "kernelspec": {
   "display_name": ".venv",
   "language": "python",
   "name": "python3"
  },
  "language_info": {
   "codemirror_mode": {
    "name": "ipython",
    "version": 3
   },
   "file_extension": ".py",
   "mimetype": "text/x-python",
   "name": "python",
   "nbconvert_exporter": "python",
   "pygments_lexer": "ipython3",
   "version": "3.13.7"
  }
 },
 "nbformat": 4,
 "nbformat_minor": 5
}
