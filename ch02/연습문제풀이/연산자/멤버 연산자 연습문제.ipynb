{
 "cells": [
  {
   "cell_type": "markdown",
   "id": "70d04dc8",
   "metadata": {},
   "source": [
    "- 학번: 202110324\n",
    "- 이름: 김종규\n",
    "- 내용: 멤버 연산자 연습문제"
   ]
  },
  {
   "cell_type": "markdown",
   "id": "8fe9aed1",
   "metadata": {},
   "source": [
    "1) 숫자 7이 리스트 [1, 2, 3, 4, 5]에 포함되어 있는지 검사하는 프로그램을 작성하라."
   ]
  },
  {
   "cell_type": "code",
   "execution_count": 2,
   "id": "1c635f04",
   "metadata": {},
   "outputs": [
    {
     "data": {
      "text/plain": [
       "False"
      ]
     },
     "execution_count": 2,
     "metadata": {},
     "output_type": "execute_result"
    }
   ],
   "source": [
    "x = 7\n",
    "list = [1, 2, 3, 4, 5]\n",
    "x == list"
   ]
  },
  {
   "cell_type": "markdown",
   "id": "e52ff390",
   "metadata": {},
   "source": [
    "2) 문자열 \"apple\"이 세트 {\"orange\", \"banana\", \"kiwi\"}에 포함되어 있는지 검사하는 프로그램을 작성하라."
   ]
  },
  {
   "cell_type": "code",
   "execution_count": null,
   "id": "9dd38730",
   "metadata": {},
   "outputs": [
    {
     "data": {
      "text/plain": [
       "False"
      ]
     },
     "execution_count": 8,
     "metadata": {},
     "output_type": "execute_result"
    }
   ],
   "source": [
    "a = \"apple\"\n",
    "list = {\"orange\", \"banana\", \"kiwi\"}\n",
    "a == list\n",
    "a in list"
   ]
  },
  {
   "cell_type": "markdown",
   "id": "04305776",
   "metadata": {},
   "source": [
    "3) 숫자 6이 딕셔너리 {\"a\": 1, \"b\": 2, \"c\": 3, \"d\": 4}의 값들 중 하나인지 검사하는 프로그램을 작성하라"
   ]
  },
  {
   "cell_type": "code",
   "execution_count": 19,
   "id": "ebfe2422",
   "metadata": {},
   "outputs": [
    {
     "data": {
      "text/plain": [
       "False"
      ]
     },
     "execution_count": 19,
     "metadata": {},
     "output_type": "execute_result"
    }
   ],
   "source": [
    "dict = {\"a\": 1, \"b\": 2, \"c\": 3, \"d\": 4}\n",
    "6 in dict.values()\n"
   ]
  },
  {
   "cell_type": "markdown",
   "id": "c26bef7a",
   "metadata": {},
   "source": [
    "4) 문자열 \"cat\"이 튜플 (\"dog\", \"cat\", \"bird\", \"hamster\")에 포함되어 있는지 검사하는 프로그램을 작성하라."
   ]
  },
  {
   "cell_type": "code",
   "execution_count": 6,
   "id": "b00b99d7",
   "metadata": {},
   "outputs": [
    {
     "data": {
      "text/plain": [
       "True"
      ]
     },
     "execution_count": 6,
     "metadata": {},
     "output_type": "execute_result"
    }
   ],
   "source": [
    "word = (\"dog\", \"cat\", \"bird\", \"hamster\")\n",
    "\"cat\" in word"
   ]
  },
  {
   "cell_type": "markdown",
   "id": "e5c6aa26",
   "metadata": {},
   "source": [
    "5) 숫자 10이 세트 {2, 4, 6, 8, 10}에 포함되어 있는지 검사하는 프로그램을 작성하라.\n"
   ]
  },
  {
   "cell_type": "code",
   "execution_count": 20,
   "id": "461da668",
   "metadata": {},
   "outputs": [
    {
     "data": {
      "text/plain": [
       "True"
      ]
     },
     "execution_count": 20,
     "metadata": {},
     "output_type": "execute_result"
    }
   ],
   "source": [
    "10 in {2, 4, 6, 8, 10}"
   ]
  }
 ],
 "metadata": {
  "kernelspec": {
   "display_name": ".venv",
   "language": "python",
   "name": "python3"
  },
  "language_info": {
   "codemirror_mode": {
    "name": "ipython",
    "version": 3
   },
   "file_extension": ".py",
   "mimetype": "text/x-python",
   "name": "python",
   "nbconvert_exporter": "python",
   "pygments_lexer": "ipython3",
   "version": "3.13.7"
  }
 },
 "nbformat": 4,
 "nbformat_minor": 5
}
